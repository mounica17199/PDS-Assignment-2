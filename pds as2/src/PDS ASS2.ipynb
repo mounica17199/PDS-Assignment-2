{
 "cells": [
  {
   "cell_type": "code",
   "execution_count": 1,
   "id": "2c274b0f",
   "metadata": {
    "id": "2c274b0f"
   },
   "outputs": [],
   "source": [
    "import pandas as pd"
   ]
  },
  {
   "cell_type": "code",
   "execution_count": 2,
   "id": "2XMheqN9fMom",
   "metadata": {
    "colab": {
     "base_uri": "https://localhost:8080/"
    },
    "id": "2XMheqN9fMom",
    "outputId": "80e60809-275d-4660-a9c3-c1eaff17852c"
   },
   "outputs": [],
   "source": [
    "data = pd.read_csv('C:/Users/91830/Downloads/train.csv')"
   ]
  },
  {
   "cell_type": "code",
   "execution_count": 3,
   "id": "9b0a6216",
   "metadata": {
    "colab": {
     "base_uri": "https://localhost:8080/",
     "height": 417
    },
    "id": "9b0a6216",
    "outputId": "0d8d14cd-7a57-4fd0-a209-534c140f0b0b"
   },
   "outputs": [
    {
     "data": {
      "text/html": [
       "<div>\n",
       "<style scoped>\n",
       "    .dataframe tbody tr th:only-of-type {\n",
       "        vertical-align: middle;\n",
       "    }\n",
       "\n",
       "    .dataframe tbody tr th {\n",
       "        vertical-align: top;\n",
       "    }\n",
       "\n",
       "    .dataframe thead th {\n",
       "        text-align: right;\n",
       "    }\n",
       "</style>\n",
       "<table border=\"1\" class=\"dataframe\">\n",
       "  <thead>\n",
       "    <tr style=\"text-align: right;\">\n",
       "      <th></th>\n",
       "      <th>Unnamed: 0</th>\n",
       "      <th>Name</th>\n",
       "      <th>Location</th>\n",
       "      <th>Year</th>\n",
       "      <th>Kilometers_Driven</th>\n",
       "      <th>Fuel_Type</th>\n",
       "      <th>Transmission</th>\n",
       "      <th>Owner_Type</th>\n",
       "      <th>Mileage</th>\n",
       "      <th>Engine</th>\n",
       "      <th>Power</th>\n",
       "      <th>Seats</th>\n",
       "      <th>New_Price</th>\n",
       "      <th>Price</th>\n",
       "    </tr>\n",
       "  </thead>\n",
       "  <tbody>\n",
       "    <tr>\n",
       "      <th>0</th>\n",
       "      <td>1</td>\n",
       "      <td>Hyundai Creta 1.6 CRDi SX Option</td>\n",
       "      <td>Pune</td>\n",
       "      <td>2015</td>\n",
       "      <td>41000</td>\n",
       "      <td>Diesel</td>\n",
       "      <td>Manual</td>\n",
       "      <td>First</td>\n",
       "      <td>19.67 kmpl</td>\n",
       "      <td>1582 CC</td>\n",
       "      <td>126.2 bhp</td>\n",
       "      <td>5.0</td>\n",
       "      <td>NaN</td>\n",
       "      <td>12.50</td>\n",
       "    </tr>\n",
       "    <tr>\n",
       "      <th>1</th>\n",
       "      <td>2</td>\n",
       "      <td>Honda Jazz V</td>\n",
       "      <td>Chennai</td>\n",
       "      <td>2011</td>\n",
       "      <td>46000</td>\n",
       "      <td>Petrol</td>\n",
       "      <td>Manual</td>\n",
       "      <td>First</td>\n",
       "      <td>13 km/kg</td>\n",
       "      <td>1199 CC</td>\n",
       "      <td>88.7 bhp</td>\n",
       "      <td>5.0</td>\n",
       "      <td>8.61 Lakh</td>\n",
       "      <td>4.50</td>\n",
       "    </tr>\n",
       "    <tr>\n",
       "      <th>2</th>\n",
       "      <td>3</td>\n",
       "      <td>Maruti Ertiga VDI</td>\n",
       "      <td>Chennai</td>\n",
       "      <td>2012</td>\n",
       "      <td>87000</td>\n",
       "      <td>Diesel</td>\n",
       "      <td>Manual</td>\n",
       "      <td>First</td>\n",
       "      <td>20.77 kmpl</td>\n",
       "      <td>1248 CC</td>\n",
       "      <td>88.76 bhp</td>\n",
       "      <td>7.0</td>\n",
       "      <td>NaN</td>\n",
       "      <td>6.00</td>\n",
       "    </tr>\n",
       "    <tr>\n",
       "      <th>3</th>\n",
       "      <td>4</td>\n",
       "      <td>Audi A4 New 2.0 TDI Multitronic</td>\n",
       "      <td>Coimbatore</td>\n",
       "      <td>2013</td>\n",
       "      <td>40670</td>\n",
       "      <td>Diesel</td>\n",
       "      <td>Automatic</td>\n",
       "      <td>Second</td>\n",
       "      <td>15.2 kmpl</td>\n",
       "      <td>1968 CC</td>\n",
       "      <td>140.8 bhp</td>\n",
       "      <td>5.0</td>\n",
       "      <td>NaN</td>\n",
       "      <td>17.74</td>\n",
       "    </tr>\n",
       "    <tr>\n",
       "      <th>4</th>\n",
       "      <td>6</td>\n",
       "      <td>Nissan Micra Diesel XV</td>\n",
       "      <td>Jaipur</td>\n",
       "      <td>2013</td>\n",
       "      <td>86999</td>\n",
       "      <td>Diesel</td>\n",
       "      <td>Manual</td>\n",
       "      <td>First</td>\n",
       "      <td>23.08 kmpl</td>\n",
       "      <td>1461 CC</td>\n",
       "      <td>63.1 bhp</td>\n",
       "      <td>5.0</td>\n",
       "      <td>NaN</td>\n",
       "      <td>3.50</td>\n",
       "    </tr>\n",
       "  </tbody>\n",
       "</table>\n",
       "</div>"
      ],
      "text/plain": [
       "   Unnamed: 0                              Name    Location  Year  \\\n",
       "0           1  Hyundai Creta 1.6 CRDi SX Option        Pune  2015   \n",
       "1           2                      Honda Jazz V     Chennai  2011   \n",
       "2           3                 Maruti Ertiga VDI     Chennai  2012   \n",
       "3           4   Audi A4 New 2.0 TDI Multitronic  Coimbatore  2013   \n",
       "4           6            Nissan Micra Diesel XV      Jaipur  2013   \n",
       "\n",
       "   Kilometers_Driven Fuel_Type Transmission Owner_Type     Mileage   Engine  \\\n",
       "0              41000    Diesel       Manual      First  19.67 kmpl  1582 CC   \n",
       "1              46000    Petrol       Manual      First    13 km/kg  1199 CC   \n",
       "2              87000    Diesel       Manual      First  20.77 kmpl  1248 CC   \n",
       "3              40670    Diesel    Automatic     Second   15.2 kmpl  1968 CC   \n",
       "4              86999    Diesel       Manual      First  23.08 kmpl  1461 CC   \n",
       "\n",
       "       Power  Seats  New_Price  Price  \n",
       "0  126.2 bhp    5.0        NaN  12.50  \n",
       "1   88.7 bhp    5.0  8.61 Lakh   4.50  \n",
       "2  88.76 bhp    7.0        NaN   6.00  \n",
       "3  140.8 bhp    5.0        NaN  17.74  \n",
       "4   63.1 bhp    5.0        NaN   3.50  "
      ]
     },
     "execution_count": 3,
     "metadata": {},
     "output_type": "execute_result"
    }
   ],
   "source": [
    "data.head()"
   ]
  },
  {
   "cell_type": "code",
   "execution_count": 4,
   "id": "659d8eb3",
   "metadata": {
    "id": "659d8eb3"
   },
   "outputs": [],
   "source": [
    "#Check for null values"
   ]
  },
  {
   "cell_type": "code",
   "execution_count": 5,
   "id": "e9c585db",
   "metadata": {
    "colab": {
     "base_uri": "https://localhost:8080/"
    },
    "id": "e9c585db",
    "outputId": "1985af73-4f4c-4014-afe7-ed947979aade"
   },
   "outputs": [
    {
     "data": {
      "text/plain": [
       "Unnamed: 0              0\n",
       "Name                    0\n",
       "Location                0\n",
       "Year                    0\n",
       "Kilometers_Driven       0\n",
       "Fuel_Type               0\n",
       "Transmission            0\n",
       "Owner_Type              0\n",
       "Mileage                 2\n",
       "Engine                 36\n",
       "Power                  36\n",
       "Seats                  38\n",
       "New_Price            5032\n",
       "Price                   0\n",
       "dtype: int64"
      ]
     },
     "execution_count": 5,
     "metadata": {},
     "output_type": "execute_result"
    }
   ],
   "source": [
    "data.isna().sum()"
   ]
  },
  {
   "cell_type": "code",
   "execution_count": 6,
   "id": "b37191df",
   "metadata": {
    "id": "b37191df"
   },
   "outputs": [],
   "source": [
    "d2 = pd.DataFrame(data)"
   ]
  },
  {
   "cell_type": "code",
   "execution_count": 7,
   "id": "9124d21a",
   "metadata": {
    "id": "9124d21a"
   },
   "outputs": [],
   "source": [
    "# (b) Removed the units from Mileage, Engine, Power and New_Price"
   ]
  },
  {
   "cell_type": "code",
   "execution_count": 8,
   "id": "b28aa353",
   "metadata": {
    "id": "b28aa353"
   },
   "outputs": [],
   "source": [
    "d2['Mileage'] = d2['Mileage'].str.extract('(\\d+\\.\\d+)').astype(float)\n",
    "\n",
    "d2['Engine'] = d2['Engine'].str.replace(' CC', '').astype(float)\n",
    "\n",
    "d2['Power'] = d2['Power'].str.extract('(\\d+\\.\\d+)').astype(float)\n",
    "\n",
    "d2['New_Price'] = d2['New_Price'].str.extract('(\\d+\\.\\d+)').astype(float)"
   ]
  },
  {
   "cell_type": "code",
   "execution_count": 9,
   "id": "d89d33cf",
   "metadata": {
    "id": "d89d33cf"
   },
   "outputs": [],
   "source": [
    "# (a)Now we are looking for missing values\n",
    "#Replace the NA values of Mileage, Engine and Power with median\n",
    "#Median is the best replacement technique because it preserves the central tendency and avoids outliers\n",
    "#Replace the NA values of Seat with Mode."
   ]
  },
  {
   "cell_type": "code",
   "execution_count": 10,
   "id": "af909e4e",
   "metadata": {
    "id": "af909e4e"
   },
   "outputs": [],
   "source": [
    "d2['Mileage'].fillna(d2['Mileage'].median(),inplace=True)\n",
    "d2['Engine'].fillna(d2['Engine'].median(),inplace=True)\n",
    "d2['Power'].fillna(d2['Power'].median(),inplace=True)\n",
    "d2['Seats'].fillna(d2['Seats'].mode()[0],inplace=True)\n",
    "\n",
    "d2.drop('New_Price', axis=1, inplace=True)#axis=1 indicates to drop a column"
   ]
  },
  {
   "cell_type": "code",
   "execution_count": 11,
   "id": "fdef6bc3",
   "metadata": {
    "id": "fdef6bc3"
   },
   "outputs": [],
   "source": [
    "output_csv_file = ('C:/Users/91830/Downloads/clean.csv')\n",
    "d2.to_csv(output_csv_file, index=False)"
   ]
  },
  {
   "cell_type": "code",
   "execution_count": 12,
   "id": "e176b553",
   "metadata": {
    "id": "e176b553"
   },
   "outputs": [],
   "source": [
    "data1=pd.read_csv('C:/Users/91830/Downloads/clean.csv')"
   ]
  },
  {
   "cell_type": "code",
   "execution_count": 13,
   "id": "a7a3fefb",
   "metadata": {
    "colab": {
     "base_uri": "https://localhost:8080/"
    },
    "id": "a7a3fefb",
    "outputId": "55a60b6a-38b7-4cd2-9d93-705daf5a2d74"
   },
   "outputs": [
    {
     "data": {
      "text/plain": [
       "Unnamed: 0           0\n",
       "Name                 0\n",
       "Location             0\n",
       "Year                 0\n",
       "Kilometers_Driven    0\n",
       "Fuel_Type            0\n",
       "Transmission         0\n",
       "Owner_Type           0\n",
       "Mileage              0\n",
       "Engine               0\n",
       "Power                0\n",
       "Seats                0\n",
       "Price                0\n",
       "dtype: int64"
      ]
     },
     "execution_count": 13,
     "metadata": {},
     "output_type": "execute_result"
    }
   ],
   "source": [
    "data1.isna().sum()"
   ]
  },
  {
   "cell_type": "code",
   "execution_count": 14,
   "id": "d53a31fe",
   "metadata": {
    "id": "d53a31fe"
   },
   "outputs": [],
   "source": [
    "#Check for the unique values of Categorical variables: Fuel_Type, Transmission"
   ]
  },
  {
   "cell_type": "code",
   "execution_count": 15,
   "id": "fe46692d",
   "metadata": {
    "colab": {
     "base_uri": "https://localhost:8080/"
    },
    "id": "fe46692d",
    "outputId": "6a59837e-eeab-40a4-c00b-9826495fc810"
   },
   "outputs": [
    {
     "data": {
      "text/plain": [
       "array(['Diesel', 'Petrol', 'Electric'], dtype=object)"
      ]
     },
     "execution_count": 15,
     "metadata": {},
     "output_type": "execute_result"
    }
   ],
   "source": [
    "data1['Fuel_Type'].unique()"
   ]
  },
  {
   "cell_type": "code",
   "execution_count": 16,
   "id": "69b557a3",
   "metadata": {
    "colab": {
     "base_uri": "https://localhost:8080/"
    },
    "id": "69b557a3",
    "outputId": "597fe744-47c5-4073-982d-e1c7b0e46775"
   },
   "outputs": [
    {
     "data": {
      "text/plain": [
       "array(['Manual', 'Automatic'], dtype=object)"
      ]
     },
     "execution_count": 16,
     "metadata": {},
     "output_type": "execute_result"
    }
   ],
   "source": [
    "data1['Transmission'].unique()"
   ]
  },
  {
   "cell_type": "code",
   "execution_count": 17,
   "id": "99d24337",
   "metadata": {
    "colab": {
     "base_uri": "https://localhost:8080/"
    },
    "id": "99d24337",
    "outputId": "32e1ed2e-3087-4eae-ab1f-7fef8f98ce03"
   },
   "outputs": [
    {
     "data": {
      "text/plain": [
       "array(['First', 'Second', 'Fourth & Above', 'Third'], dtype=object)"
      ]
     },
     "execution_count": 17,
     "metadata": {},
     "output_type": "execute_result"
    }
   ],
   "source": [
    "data1['Owner_Type'].unique()"
   ]
  },
  {
   "cell_type": "code",
   "execution_count": 18,
   "id": "95c2545e",
   "metadata": {
    "id": "95c2545e"
   },
   "outputs": [],
   "source": [
    "data1['Fuel_Type'].replace({'Diesel': 0, 'Petrol': 1, 'Electric': 2}, inplace=True)\n",
    "data1['Transmission'].replace({'Manual': 0, 'Automatic': 1}, inplace=True)"
   ]
  },
  {
   "cell_type": "code",
   "execution_count": 19,
   "id": "d220c5da",
   "metadata": {
    "colab": {
     "base_uri": "https://localhost:8080/",
     "height": 293
    },
    "id": "d220c5da",
    "outputId": "4747877c-25a1-4fa9-eda4-575aff9c9f68"
   },
   "outputs": [
    {
     "data": {
      "text/html": [
       "<div>\n",
       "<style scoped>\n",
       "    .dataframe tbody tr th:only-of-type {\n",
       "        vertical-align: middle;\n",
       "    }\n",
       "\n",
       "    .dataframe tbody tr th {\n",
       "        vertical-align: top;\n",
       "    }\n",
       "\n",
       "    .dataframe thead th {\n",
       "        text-align: right;\n",
       "    }\n",
       "</style>\n",
       "<table border=\"1\" class=\"dataframe\">\n",
       "  <thead>\n",
       "    <tr style=\"text-align: right;\">\n",
       "      <th></th>\n",
       "      <th>Unnamed: 0</th>\n",
       "      <th>Name</th>\n",
       "      <th>Location</th>\n",
       "      <th>Year</th>\n",
       "      <th>Kilometers_Driven</th>\n",
       "      <th>Fuel_Type</th>\n",
       "      <th>Transmission</th>\n",
       "      <th>Owner_Type</th>\n",
       "      <th>Mileage</th>\n",
       "      <th>Engine</th>\n",
       "      <th>Power</th>\n",
       "      <th>Seats</th>\n",
       "      <th>Price</th>\n",
       "    </tr>\n",
       "  </thead>\n",
       "  <tbody>\n",
       "    <tr>\n",
       "      <th>0</th>\n",
       "      <td>1</td>\n",
       "      <td>Hyundai Creta 1.6 CRDi SX Option</td>\n",
       "      <td>Pune</td>\n",
       "      <td>2015</td>\n",
       "      <td>41000</td>\n",
       "      <td>0</td>\n",
       "      <td>0</td>\n",
       "      <td>First</td>\n",
       "      <td>19.67</td>\n",
       "      <td>1582.0</td>\n",
       "      <td>126.20</td>\n",
       "      <td>5.0</td>\n",
       "      <td>12.50</td>\n",
       "    </tr>\n",
       "    <tr>\n",
       "      <th>1</th>\n",
       "      <td>2</td>\n",
       "      <td>Honda Jazz V</td>\n",
       "      <td>Chennai</td>\n",
       "      <td>2011</td>\n",
       "      <td>46000</td>\n",
       "      <td>1</td>\n",
       "      <td>0</td>\n",
       "      <td>First</td>\n",
       "      <td>18.19</td>\n",
       "      <td>1199.0</td>\n",
       "      <td>88.70</td>\n",
       "      <td>5.0</td>\n",
       "      <td>4.50</td>\n",
       "    </tr>\n",
       "    <tr>\n",
       "      <th>2</th>\n",
       "      <td>3</td>\n",
       "      <td>Maruti Ertiga VDI</td>\n",
       "      <td>Chennai</td>\n",
       "      <td>2012</td>\n",
       "      <td>87000</td>\n",
       "      <td>0</td>\n",
       "      <td>0</td>\n",
       "      <td>First</td>\n",
       "      <td>20.77</td>\n",
       "      <td>1248.0</td>\n",
       "      <td>88.76</td>\n",
       "      <td>7.0</td>\n",
       "      <td>6.00</td>\n",
       "    </tr>\n",
       "    <tr>\n",
       "      <th>3</th>\n",
       "      <td>4</td>\n",
       "      <td>Audi A4 New 2.0 TDI Multitronic</td>\n",
       "      <td>Coimbatore</td>\n",
       "      <td>2013</td>\n",
       "      <td>40670</td>\n",
       "      <td>0</td>\n",
       "      <td>1</td>\n",
       "      <td>Second</td>\n",
       "      <td>15.20</td>\n",
       "      <td>1968.0</td>\n",
       "      <td>140.80</td>\n",
       "      <td>5.0</td>\n",
       "      <td>17.74</td>\n",
       "    </tr>\n",
       "    <tr>\n",
       "      <th>4</th>\n",
       "      <td>6</td>\n",
       "      <td>Nissan Micra Diesel XV</td>\n",
       "      <td>Jaipur</td>\n",
       "      <td>2013</td>\n",
       "      <td>86999</td>\n",
       "      <td>0</td>\n",
       "      <td>0</td>\n",
       "      <td>First</td>\n",
       "      <td>23.08</td>\n",
       "      <td>1461.0</td>\n",
       "      <td>63.10</td>\n",
       "      <td>5.0</td>\n",
       "      <td>3.50</td>\n",
       "    </tr>\n",
       "  </tbody>\n",
       "</table>\n",
       "</div>"
      ],
      "text/plain": [
       "   Unnamed: 0                              Name    Location  Year  \\\n",
       "0           1  Hyundai Creta 1.6 CRDi SX Option        Pune  2015   \n",
       "1           2                      Honda Jazz V     Chennai  2011   \n",
       "2           3                 Maruti Ertiga VDI     Chennai  2012   \n",
       "3           4   Audi A4 New 2.0 TDI Multitronic  Coimbatore  2013   \n",
       "4           6            Nissan Micra Diesel XV      Jaipur  2013   \n",
       "\n",
       "   Kilometers_Driven  Fuel_Type  Transmission Owner_Type  Mileage  Engine  \\\n",
       "0              41000          0             0      First    19.67  1582.0   \n",
       "1              46000          1             0      First    18.19  1199.0   \n",
       "2              87000          0             0      First    20.77  1248.0   \n",
       "3              40670          0             1     Second    15.20  1968.0   \n",
       "4              86999          0             0      First    23.08  1461.0   \n",
       "\n",
       "    Power  Seats  Price  \n",
       "0  126.20    5.0  12.50  \n",
       "1   88.70    5.0   4.50  \n",
       "2   88.76    7.0   6.00  \n",
       "3  140.80    5.0  17.74  \n",
       "4   63.10    5.0   3.50  "
      ]
     },
     "execution_count": 19,
     "metadata": {},
     "output_type": "execute_result"
    }
   ],
   "source": [
    "data1.head()"
   ]
  },
  {
   "cell_type": "code",
   "execution_count": 20,
   "id": "b6c1ddf6",
   "metadata": {
    "id": "b6c1ddf6"
   },
   "outputs": [],
   "source": [
    "#Save encoded data in csv file"
   ]
  },
  {
   "cell_type": "code",
   "execution_count": 21,
   "id": "fcf23a4a",
   "metadata": {
    "id": "fcf23a4a"
   },
   "outputs": [],
   "source": [
    "output_csv_file = ('C:/Users/91830/Downloads/clean.csv')\n",
    "data1.to_csv(output_csv_file, index=False)"
   ]
  },
  {
   "cell_type": "code",
   "execution_count": 22,
   "id": "85510def",
   "metadata": {
    "id": "85510def"
   },
   "outputs": [],
   "source": [
    "# (d) Add the column 'CURRENT AGE' OF THE CAR"
   ]
  },
  {
   "cell_type": "code",
   "execution_count": 23,
   "id": "f26c4179",
   "metadata": {
    "id": "f26c4179"
   },
   "outputs": [],
   "source": [
    "from datetime import datetime"
   ]
  },
  {
   "cell_type": "code",
   "execution_count": 24,
   "id": "18626a6e",
   "metadata": {
    "id": "18626a6e"
   },
   "outputs": [],
   "source": [
    "current_year = datetime.now().year\n",
    "\n",
    "data1['Current_Age'] = current_year - data1['Year']"
   ]
  },
  {
   "cell_type": "code",
   "execution_count": 25,
   "id": "c6f47fa5",
   "metadata": {
    "id": "c6f47fa5"
   },
   "outputs": [],
   "source": [
    "#Save the file with newly added Current_Age colmun in separate file\n",
    "output_csv_file = ('C:/Users/91830/Downloads/clean.csv')\n",
    "data1.to_csv(output_csv_file, index=False)"
   ]
  },
  {
   "cell_type": "code",
   "execution_count": 26,
   "id": "3cb78c08",
   "metadata": {
    "colab": {
     "base_uri": "https://localhost:8080/",
     "height": 417
    },
    "id": "3cb78c08",
    "outputId": "e2b90200-f6a5-4abe-887d-e0ff359f7963"
   },
   "outputs": [
    {
     "data": {
      "text/html": [
       "<div>\n",
       "<style scoped>\n",
       "    .dataframe tbody tr th:only-of-type {\n",
       "        vertical-align: middle;\n",
       "    }\n",
       "\n",
       "    .dataframe tbody tr th {\n",
       "        vertical-align: top;\n",
       "    }\n",
       "\n",
       "    .dataframe thead th {\n",
       "        text-align: right;\n",
       "    }\n",
       "</style>\n",
       "<table border=\"1\" class=\"dataframe\">\n",
       "  <thead>\n",
       "    <tr style=\"text-align: right;\">\n",
       "      <th></th>\n",
       "      <th>Unnamed: 0</th>\n",
       "      <th>Name</th>\n",
       "      <th>Location</th>\n",
       "      <th>Year</th>\n",
       "      <th>Kilometers_Driven</th>\n",
       "      <th>Fuel_Type</th>\n",
       "      <th>Transmission</th>\n",
       "      <th>Owner_Type</th>\n",
       "      <th>Mileage</th>\n",
       "      <th>Engine</th>\n",
       "      <th>Power</th>\n",
       "      <th>Seats</th>\n",
       "      <th>Price</th>\n",
       "      <th>Current_Age</th>\n",
       "    </tr>\n",
       "  </thead>\n",
       "  <tbody>\n",
       "    <tr>\n",
       "      <th>0</th>\n",
       "      <td>1</td>\n",
       "      <td>Hyundai Creta 1.6 CRDi SX Option</td>\n",
       "      <td>Pune</td>\n",
       "      <td>2015</td>\n",
       "      <td>41000</td>\n",
       "      <td>0</td>\n",
       "      <td>0</td>\n",
       "      <td>First</td>\n",
       "      <td>19.67</td>\n",
       "      <td>1582.0</td>\n",
       "      <td>126.20</td>\n",
       "      <td>5.0</td>\n",
       "      <td>12.50</td>\n",
       "      <td>9</td>\n",
       "    </tr>\n",
       "    <tr>\n",
       "      <th>1</th>\n",
       "      <td>2</td>\n",
       "      <td>Honda Jazz V</td>\n",
       "      <td>Chennai</td>\n",
       "      <td>2011</td>\n",
       "      <td>46000</td>\n",
       "      <td>1</td>\n",
       "      <td>0</td>\n",
       "      <td>First</td>\n",
       "      <td>18.19</td>\n",
       "      <td>1199.0</td>\n",
       "      <td>88.70</td>\n",
       "      <td>5.0</td>\n",
       "      <td>4.50</td>\n",
       "      <td>13</td>\n",
       "    </tr>\n",
       "    <tr>\n",
       "      <th>2</th>\n",
       "      <td>3</td>\n",
       "      <td>Maruti Ertiga VDI</td>\n",
       "      <td>Chennai</td>\n",
       "      <td>2012</td>\n",
       "      <td>87000</td>\n",
       "      <td>0</td>\n",
       "      <td>0</td>\n",
       "      <td>First</td>\n",
       "      <td>20.77</td>\n",
       "      <td>1248.0</td>\n",
       "      <td>88.76</td>\n",
       "      <td>7.0</td>\n",
       "      <td>6.00</td>\n",
       "      <td>12</td>\n",
       "    </tr>\n",
       "    <tr>\n",
       "      <th>3</th>\n",
       "      <td>4</td>\n",
       "      <td>Audi A4 New 2.0 TDI Multitronic</td>\n",
       "      <td>Coimbatore</td>\n",
       "      <td>2013</td>\n",
       "      <td>40670</td>\n",
       "      <td>0</td>\n",
       "      <td>1</td>\n",
       "      <td>Second</td>\n",
       "      <td>15.20</td>\n",
       "      <td>1968.0</td>\n",
       "      <td>140.80</td>\n",
       "      <td>5.0</td>\n",
       "      <td>17.74</td>\n",
       "      <td>11</td>\n",
       "    </tr>\n",
       "    <tr>\n",
       "      <th>4</th>\n",
       "      <td>6</td>\n",
       "      <td>Nissan Micra Diesel XV</td>\n",
       "      <td>Jaipur</td>\n",
       "      <td>2013</td>\n",
       "      <td>86999</td>\n",
       "      <td>0</td>\n",
       "      <td>0</td>\n",
       "      <td>First</td>\n",
       "      <td>23.08</td>\n",
       "      <td>1461.0</td>\n",
       "      <td>63.10</td>\n",
       "      <td>5.0</td>\n",
       "      <td>3.50</td>\n",
       "      <td>11</td>\n",
       "    </tr>\n",
       "  </tbody>\n",
       "</table>\n",
       "</div>"
      ],
      "text/plain": [
       "   Unnamed: 0                              Name    Location  Year  \\\n",
       "0           1  Hyundai Creta 1.6 CRDi SX Option        Pune  2015   \n",
       "1           2                      Honda Jazz V     Chennai  2011   \n",
       "2           3                 Maruti Ertiga VDI     Chennai  2012   \n",
       "3           4   Audi A4 New 2.0 TDI Multitronic  Coimbatore  2013   \n",
       "4           6            Nissan Micra Diesel XV      Jaipur  2013   \n",
       "\n",
       "   Kilometers_Driven  Fuel_Type  Transmission Owner_Type  Mileage  Engine  \\\n",
       "0              41000          0             0      First    19.67  1582.0   \n",
       "1              46000          1             0      First    18.19  1199.0   \n",
       "2              87000          0             0      First    20.77  1248.0   \n",
       "3              40670          0             1     Second    15.20  1968.0   \n",
       "4              86999          0             0      First    23.08  1461.0   \n",
       "\n",
       "    Power  Seats  Price  Current_Age  \n",
       "0  126.20    5.0  12.50            9  \n",
       "1   88.70    5.0   4.50           13  \n",
       "2   88.76    7.0   6.00           12  \n",
       "3  140.80    5.0  17.74           11  \n",
       "4   63.10    5.0   3.50           11  "
      ]
     },
     "execution_count": 26,
     "metadata": {},
     "output_type": "execute_result"
    }
   ],
   "source": [
    "data3=pd.read_csv(\"C:/Users/91830/Downloads/clean.csv\")\n",
    "data3.head()"
   ]
  },
  {
   "cell_type": "code",
   "execution_count": 30,
   "id": "c4eb3947",
   "metadata": {
    "id": "c4eb3947"
   },
   "outputs": [
    {
     "name": "stdout",
     "output_type": "stream",
     "text": [
      "Selected columns:\n",
      "                               Name  Year  Kilometers_Driven Fuel_Type  \\\n",
      "0  Hyundai Creta 1.6 CRDi SX Option  2015              41000    Diesel   \n",
      "1                      Honda Jazz V  2011              46000    Petrol   \n",
      "2                 Maruti Ertiga VDI  2012              87000    Diesel   \n",
      "3   Audi A4 New 2.0 TDI Multitronic  2013              40670    Diesel   \n",
      "4            Nissan Micra Diesel XV  2013              86999    Diesel   \n",
      "\n",
      "  Transmission  Price  \n",
      "0       Manual  12.50  \n",
      "1       Manual   4.50  \n",
      "2       Manual   6.00  \n",
      "3    Automatic  17.74  \n",
      "4       Manual   3.50  \n",
      "\n",
      "Filtered data (Diesel cars only):\n",
      "Empty DataFrame\n",
      "Columns: [Unnamed: 0, Name, Location, Year, Kilometers_Driven, Fuel_Type, Transmission, Owner_Type, Mileage, Engine, Power, Seats, New_Price, Price]\n",
      "Index: []\n",
      "\n",
      "Renamed columns:\n",
      "   Unnamed: 0                          Car_Name    Location  Year  Kms_Driven  \\\n",
      "0           1  Hyundai Creta 1.6 CRDi SX Option        Pune  2015       41000   \n",
      "1           2                      Honda Jazz V     Chennai  2011       46000   \n",
      "2           3                 Maruti Ertiga VDI     Chennai  2012       87000   \n",
      "3           4   Audi A4 New 2.0 TDI Multitronic  Coimbatore  2013       40670   \n",
      "4           6            Nissan Micra Diesel XV      Jaipur  2013       86999   \n",
      "\n",
      "  Fuel_Type Transmission Owner_Type     Mileage   Engine      Power  Seats  \\\n",
      "0    Diesel       Manual      First  19.67 kmpl  1582 CC  126.2 bhp    5.0   \n",
      "1    Petrol       Manual      First    13 km/kg  1199 CC   88.7 bhp    5.0   \n",
      "2    Diesel       Manual      First  20.77 kmpl  1248 CC  88.76 bhp    7.0   \n",
      "3    Diesel    Automatic     Second   15.2 kmpl  1968 CC  140.8 bhp    5.0   \n",
      "4    Diesel       Manual      First  23.08 kmpl  1461 CC   63.1 bhp    5.0   \n",
      "\n",
      "   New_Price  Price  \n",
      "0        NaN  12.50  \n",
      "1  8.61 Lakh   4.50  \n",
      "2        NaN   6.00  \n",
      "3        NaN  17.74  \n",
      "4        NaN   3.50  \n",
      "\n",
      "Mutated data (Added Price_in_lakhs column):\n",
      "   Unnamed: 0                              Name    Location  Year  \\\n",
      "0           1  Hyundai Creta 1.6 CRDi SX Option        Pune  2015   \n",
      "1           2                      Honda Jazz V     Chennai  2011   \n",
      "2           3                 Maruti Ertiga VDI     Chennai  2012   \n",
      "3           4   Audi A4 New 2.0 TDI Multitronic  Coimbatore  2013   \n",
      "4           6            Nissan Micra Diesel XV      Jaipur  2013   \n",
      "\n",
      "   Kilometers_Driven Fuel_Type Transmission Owner_Type     Mileage   Engine  \\\n",
      "0              41000    Diesel       Manual      First  19.67 kmpl  1582 CC   \n",
      "1              46000    Petrol       Manual      First    13 km/kg  1199 CC   \n",
      "2              87000    Diesel       Manual      First  20.77 kmpl  1248 CC   \n",
      "3              40670    Diesel    Automatic     Second   15.2 kmpl  1968 CC   \n",
      "4              86999    Diesel       Manual      First  23.08 kmpl  1461 CC   \n",
      "\n",
      "       Power  Seats  New_Price  Price  Price_in_lakhs  \n",
      "0  126.2 bhp    5.0        NaN  12.50        0.000125  \n",
      "1   88.7 bhp    5.0  8.61 Lakh   4.50        0.000045  \n",
      "2  88.76 bhp    7.0        NaN   6.00        0.000060  \n",
      "3  140.8 bhp    5.0        NaN  17.74        0.000177  \n",
      "4   63.1 bhp    5.0        NaN   3.50        0.000035  \n",
      "\n",
      "Sorted data (Based on Price in descending order):\n",
      "      Unnamed: 0                                         Name    Location  \\\n",
      "3952        4079  Land Rover Range Rover 3.0 Diesel LWB Vogue   Hyderabad   \n",
      "5620        5781                   Lamborghini Gallardo Coupe       Delhi   \n",
      "5752        5919                       Jaguar F Type 5.0 V8 S   Hyderabad   \n",
      "1457        1505              Land Rover Range Rover Sport SE       Kochi   \n",
      "1917        1974                           BMW 7 Series 740Li  Coimbatore   \n",
      "\n",
      "      Year  Kilometers_Driven Fuel_Type Transmission Owner_Type     Mileage  \\\n",
      "3952  2017              25000    Diesel    Automatic      First  13.33 kmpl   \n",
      "5620  2011               6500    Petrol    Automatic      Third    6.4 kmpl   \n",
      "5752  2015               8000    Petrol    Automatic      First   12.5 kmpl   \n",
      "1457  2019              26013    Diesel    Automatic      First  12.65 kmpl   \n",
      "1917  2018              28060    Petrol    Automatic      First  12.05 kmpl   \n",
      "\n",
      "       Engine      Power  Seats New_Price   Price  Price_in_lakhs  \n",
      "3952  2993 CC    255 bhp    5.0    2.3 Cr  160.00        0.001600  \n",
      "5620  5204 CC    560 bhp    2.0       NaN  120.00        0.001200  \n",
      "5752  5000 CC  488.1 bhp    2.0       NaN  100.00        0.001000  \n",
      "1457  2993 CC    255 bhp    5.0   1.39 Cr   97.07        0.000971  \n",
      "1917  2979 CC    320 bhp    5.0       NaN   93.67        0.000937  \n",
      "\n",
      "Grouped data (Mean Price and Max Year by Fuel_Type):\n",
      "               Price  Year\n",
      "Fuel_Type                 \n",
      "Diesel     12.960686  2019\n",
      "Electric   12.875000  2016\n",
      "Petrol      5.756688  2019\n"
     ]
    }
   ],
   "source": [
    "# (e) Selecting specific columns\n",
    "selected_columns = data[['Name', 'Year', 'Kilometers_Driven', 'Fuel_Type', 'Transmission', 'Price']]\n",
    "print(\"Selected columns:\")\n",
    "print(selected_columns.head())\n",
    "\n",
    "# (e) Filtering the dataset based on a condition\n",
    "filtered_data = data[data['Fuel_Type'] == 0]  # Filtering only Diesel cars\n",
    "print(\"\\nFiltered data (Diesel cars only):\")\n",
    "print(filtered_data.head())\n",
    "\n",
    "# (e) Renaming columns\n",
    "renamed_data = data.rename(columns={'Name': 'Car_Name', 'Kilometers_Driven': 'Kms_Driven'})\n",
    "print(\"\\nRenamed columns:\")\n",
    "print(renamed_data.head())\n",
    "\n",
    "# (e) Mutating/Creating new columns\n",
    "data['Price_in_lakhs'] = data['Price'] / 100000  # Converting Price to lakhs\n",
    "print(\"\\nMutated data (Added Price_in_lakhs column):\")\n",
    "print(data.head())\n",
    "\n",
    "# (e) Arranging/Sorting the dataset based on a column\n",
    "sorted_data = data.sort_values(by='Price', ascending=False)  # Sorting by Price in descending order\n",
    "print(\"\\nSorted data (Based on Price in descending order):\")\n",
    "print(sorted_data.head())\n",
    "\n",
    "# (e) Summarizing data with group by operations\n",
    "grouped_data = data.groupby('Fuel_Type').agg({'Price': 'mean', 'Year': 'max'})\n",
    "print(\"\\nGrouped data (Mean Price and Max Year by Fuel_Type):\")\n",
    "print(grouped_data)"
   ]
  },
  {
   "cell_type": "code",
   "execution_count": null,
   "id": "0aa936d8",
   "metadata": {},
   "outputs": [],
   "source": []
  }
 ],
 "metadata": {
  "colab": {
   "provenance": []
  },
  "kernelspec": {
   "display_name": "Python 3 (ipykernel)",
   "language": "python",
   "name": "python3"
  },
  "language_info": {
   "codemirror_mode": {
    "name": "ipython",
    "version": 3
   },
   "file_extension": ".py",
   "mimetype": "text/x-python",
   "name": "python",
   "nbconvert_exporter": "python",
   "pygments_lexer": "ipython3",
   "version": "3.11.5"
  }
 },
 "nbformat": 4,
 "nbformat_minor": 5
}
